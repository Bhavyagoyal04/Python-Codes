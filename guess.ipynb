{
  "nbformat": 4,
  "nbformat_minor": 0,
  "metadata": {
    "colab": {
      "provenance": [],
      "authorship_tag": "ABX9TyN1iyfmfS1JSRhQYLx+NEez",
      "include_colab_link": true
    },
    "kernelspec": {
      "name": "python3",
      "display_name": "Python 3"
    },
    "language_info": {
      "name": "python"
    }
  },
  "cells": [
    {
      "cell_type": "markdown",
      "metadata": {
        "id": "view-in-github",
        "colab_type": "text"
      },
      "source": [
        "<a href=\"https://colab.research.google.com/github/Bhavyagoyal04/Python-Codes/blob/main/guess.ipynb\" target=\"_parent\"><img src=\"https://colab.research.google.com/assets/colab-badge.svg\" alt=\"Open In Colab\"/></a>"
      ]
    },
    {
      "cell_type": "code",
      "source": [
        "sec_num = 7\n",
        "guess_count = 3\n",
        "guess=int(input(\"Enter the no. to guess: \"))\n",
        "while guess_count!=0:\n",
        "  if guess == sec_num:\n",
        "    print(\"You Won\")\n",
        "    break\n",
        "  else:\n",
        "    guess_count-=1\n",
        "    print(\"Try Again\")\n",
        "    guess=int(input(\"Enter the no. to guess: \"))"
      ],
      "metadata": {
        "id": "rHZ620FmCvLv",
        "colab": {
          "base_uri": "https://localhost:8080/"
        },
        "outputId": "7581f50b-9c30-4df4-ff3e-297bcb92c0ee"
      },
      "execution_count": null,
      "outputs": [
        {
          "output_type": "stream",
          "name": "stdout",
          "text": [
            "Enter the no. to guess: 2\n",
            "Try Again\n",
            "Enter the no. to guess: 4\n",
            "Try Again\n",
            "Enter the no. to guess: 7\n",
            "You Won\n"
          ]
        }
      ]
    }
  ]
}
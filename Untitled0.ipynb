{
  "nbformat": 4,
  "nbformat_minor": 0,
  "metadata": {
    "colab": {
      "provenance": [],
      "authorship_tag": "ABX9TyOqzQLn042fa3LPAVOtfxtx",
      "include_colab_link": true
    },
    "kernelspec": {
      "name": "python3",
      "display_name": "Python 3"
    },
    "language_info": {
      "name": "python"
    }
  },
  "cells": [
    {
      "cell_type": "markdown",
      "metadata": {
        "id": "view-in-github",
        "colab_type": "text"
      },
      "source": [
        "<a href=\"https://colab.research.google.com/github/Bhavyagoyal04/Python-Codes/blob/main/Untitled0.ipynb\" target=\"_parent\"><img src=\"https://colab.research.google.com/assets/colab-badge.svg\" alt=\"Open In Colab\"/></a>"
      ]
    },
    {
      "cell_type": "code",
      "source": [
        "a=int(input(\"Number1 = \"))\n",
        "b=int(input(\"Number2 = \"))\n",
        "c=a+b\n",
        "d=a-b\n",
        "e=a*b\n",
        "f=a%b\n",
        "g=a/b\n",
        "h=a|b\n",
        "if a==b:\n",
        "  print(\"Equal\")\n",
        "elif a>b:\n",
        "  print(\"a is greater\")\n",
        "else :\n",
        "  print(\"b is greater\")\n",
        "if a>0 and b>0:\n",
        "  print(\"Numbers are greater than 0\");\n",
        "print(c)\n",
        "print(d)\n",
        "print(e)\n",
        "print(f)\n",
        "print(g)\n",
        "print(h)"
      ],
      "metadata": {
        "colab": {
          "base_uri": "https://localhost:8080/"
        },
        "id": "W0u7mvwe2EA5",
        "outputId": "dddfcfb3-1a23-4e1a-f4d7-c5a2ea2c255f"
      },
      "execution_count": 1,
      "outputs": [
        {
          "output_type": "stream",
          "name": "stdout",
          "text": [
            "Number1 = 30\n",
            "Number2 = 20\n",
            "a is greater\n",
            "Numbers are greater than 0\n",
            "50\n",
            "10\n",
            "600\n",
            "10\n",
            "1.5\n",
            "30\n"
          ]
        }
      ]
    },
    {
      "cell_type": "markdown",
      "source": [],
      "metadata": {
        "id": "hDkdu2PNDtr4"
      }
    }
  ]
}
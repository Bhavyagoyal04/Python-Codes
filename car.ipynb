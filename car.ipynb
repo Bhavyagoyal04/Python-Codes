{
  "nbformat": 4,
  "nbformat_minor": 0,
  "metadata": {
    "colab": {
      "provenance": [],
      "authorship_tag": "ABX9TyOkGWCtKSx90wkT65Lw4wSG",
      "include_colab_link": true
    },
    "kernelspec": {
      "name": "python3",
      "display_name": "Python 3"
    },
    "language_info": {
      "name": "python"
    }
  },
  "cells": [
    {
      "cell_type": "markdown",
      "metadata": {
        "id": "view-in-github",
        "colab_type": "text"
      },
      "source": [
        "<a href=\"https://colab.research.google.com/github/Bhavyagoyal04/Python-Codes/blob/main/car.ipynb\" target=\"_parent\"><img src=\"https://colab.research.google.com/assets/colab-badge.svg\" alt=\"Open In Colab\"/></a>"
      ]
    },
    {
      "cell_type": "code",
      "source": [
        "c=input(\"Enter your command: \")\n",
        "if c==\"start\":\n",
        "  print(\"Car Started\")\n",
        "elif c==\"stop\":\n",
        "  print(\"Car Stopped\")\n",
        "elif c==\"quit\":\n",
        "  print(\"Car Quit\")\n",
        "else:\n",
        "  print(\"Car Helped\")"
      ],
      "metadata": {
        "colab": {
          "base_uri": "https://localhost:8080/"
        },
        "id": "2fgD8SB-j3xV",
        "outputId": "7e58735c-db32-41ab-ccdf-518f2b15991f"
      },
      "execution_count": 2,
      "outputs": [
        {
          "output_type": "stream",
          "name": "stdout",
          "text": [
            "Enter your command: start\n",
            "Car Started\n"
          ]
        }
      ]
    }
  ]
}